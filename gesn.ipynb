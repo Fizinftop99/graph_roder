{
 "cells": [
  {
   "cell_type": "code",
   "execution_count": 10,
   "metadata": {},
   "outputs": [],
   "source": [
    "path = os.path.join(os.getcwd(), 'new_data')"
   ]
  },
  {
   "cell_type": "code",
   "execution_count": 17,
   "metadata": {},
   "outputs": [],
   "source": [
    "gesns = np.empty(0, dtype=str)B"
   ]
  },
  {
   "cell_type": "code",
   "execution_count": null,
   "metadata": {
    "collapsed": true,
    "pycharm": {
     "is_executing": true
    }
   },
   "outputs": [],
   "source": [
    "for table in os.listdir(path):\n",
    "        table_path = os.path.join(path, table)\n",
    "        df = pd.read_excel(table_path, dtype={\"Шифр\": str})\n",
    "        df.dropna(subset=[\"Шифр\"], inplace=True)\n",
    "        gesns = np.union1d(gesns, df.Шифр.unique())\n",
    "        # gesns = df.Шифр.unique()\n",
    "gesns.size"
   ]
  },
  {
   "cell_type": "code",
   "execution_count": 30,
   "metadata": {
    "collapsed": true
   },
   "outputs": [
    {
     "name": "stdout",
     "output_type": "stream",
     "text": [
      "<class 'pandas.core.frame.DataFrame'>\n",
      "Int64Index: 292 entries, 3 to 339\n",
      "Data columns (total 12 columns):\n",
      " #   Column                  Non-Null Count  Dtype         \n",
      "---  ------                  --------------  -----         \n",
      " 0   Идентификатор операции  292 non-null    object        \n",
      " 1   ИСР                     292 non-null    object        \n",
      " 2   Наименование            292 non-null    object        \n",
      " 3   Длительность - план     292 non-null    int64         \n",
      " 4   Начало                  292 non-null    datetime64[ns]\n",
      " 5   Окончание               292 non-null    datetime64[ns]\n",
      " 6   ADCM_Объем план         292 non-null    float64       \n",
      " 7   ADCM_Стоимость_План     292 non-null    object        \n",
      " 8   ADCM_шифрГЭСН           292 non-null    object        \n",
      " 9   ADCM_МаркаРД            292 non-null    object        \n",
      " 10  Последователи           229 non-null    object        \n",
      " 11  Предшественники         272 non-null    object        \n",
      "dtypes: datetime64[ns](2), float64(1), int64(1), object(8)\n",
      "memory usage: 29.7+ KB\n"
     ]
    }
   ],
   "source": [
    "historical_df = pd.read_excel(\"data/2022-02-07 МОЭК_ЕКС график по смете.xlsx\")\n",
    "historical_df.dropna(subset=[\"ADCM_шифрГЭСН\"], inplace=True)\n",
    "historical_df.info()"
   ]
  },
  {
   "cell_type": "code",
   "execution_count": 31,
   "metadata": {},
   "outputs": [
    {
     "data": {
      "text/plain": [
       "133"
      ]
     },
     "execution_count": 31,
     "metadata": {},
     "output_type": "execute_result"
    }
   ],
   "source": [
    "hist_gesns = historical_df.ADCM_шифрГЭСН.unique()\n",
    "hist_gesns.size"
   ]
  },
  {
   "cell_type": "code",
   "execution_count": 32,
   "metadata": {
    "collapsed": true
   },
   "outputs": [
    {
     "data": {
      "text/plain": [
       "array(['15.2-1-7', '2.1-3-38', '3.1-2-10', '3.1-29-1', '3.1-30-1',\n",
       "       '3.1-49-1', '3.1-53-1', '3.1-6-10', '3.11-10-1', '3.13-11-5',\n",
       "       '3.13-11-8', '3.13-9-2', '3.16-9-1', '3.16-9-3', '3.18-20-2',\n",
       "       '3.18-20-4', '3.22-43-1', '3.22-70-1', '3.22-70-3', '3.22-71-1',\n",
       "       '3.22-72-2', '3.23-1-5', '3.23-13-1', '3.23-13-3', '3.23-24-1',\n",
       "       '3.23-28-1', '3.24-2-1', '3.24-2-3', '3.24-38-1', '3.24-40-1',\n",
       "       '3.24-41-1', '3.24-42-1', '3.24-43-1', '3.26-11-1', '3.27-26-1',\n",
       "       '3.27-30-1', '3.27-30-2', '3.27-42-1', '3.27-43-1', '3.27-54-1',\n",
       "       '3.29-1587-2', '3.29-1588-1', '3.29-1590-2', '3.29-1591-1',\n",
       "       '3.29-1596-1', '3.29-1596-2', '3.4-10-2', '3.4-11-2', '3.4-19-36',\n",
       "       '3.4-6-10', '3.4-8-53', '3.47-26-3', '3.47-26-4', '3.47-26-5',\n",
       "       '3.47-26-6', '3.47-3-15', '3.47-3-20', '3.47-3-5', '3.47-34-6',\n",
       "       '3.47-5-15', '3.47-5-20', '3.47-5-5', '3.47-7-5', '3.47-7-7',\n",
       "       '3.47-7-8', '3.6-1-1', '3.6-1-15', '3.6-8-1', '3.7-21-2',\n",
       "       '3.7-45-1', '3.7-89-1', '3.7-89-2', '3.8-2-3', '3.8-2-7',\n",
       "       '3.9-33-1', '3.9-7-2', '3.9-71-1', '4.11-3-1', '4.12-39-1',\n",
       "       '4.8-170-3', '6.66-162-2', '6.66-94-1', '6.68-13-1', '6.68-30-1',\n",
       "       '6.68-30-2', '6.68-30-3', '6.68-31-1', '6.68-31-2', '6.68-31-3',\n",
       "       '6.68-32-1', '6.68-33-1', '6.68-51-4', '6.68-51-5', '6.68-53-1',\n",
       "       '6.68-84-1', '6.68-84-4'], dtype=object)"
      ]
     },
     "execution_count": 32,
     "metadata": {},
     "output_type": "execute_result"
    }
   ],
   "source": [
    "np.intersect1d(hist_gesns, gesns)"
   ]
  },
  {
   "cell_type": "code",
   "execution_count": 1,
   "outputs": [],
   "source": [
    "import os\n",
    "\n",
    "import pandas as pd\n",
    "import numpy as np\n",
    "from neo4j import Transaction, Session, GraphDatabase"
   ],
   "metadata": {
    "collapsed": false
   }
  },
  {
   "cell_type": "code",
   "execution_count": 2,
   "outputs": [
    {
     "data": {
      "text/plain": "              СППэлемент                               Проект  \\\n0  M-20-1A0-09-10-000032  Реконструкция магистральных т/сетей   \n\n                [ GUID локальной сметы]  \\\n0  2cad624d-c19c-11ed-a2ca-005056936a79   \n\n                                               Смета          Код  \\\n0  Локальный сметный расчет №01-01-01 от 01.09.20...  00-00000011   \n\n                Наименование         НаименованиеПолное Шифр Пункт Тип работ  \\\n0  Валка кустарников - 8 шт.  Валка кустарников - 8 шт.  NaN   NaN       NaN   \n\n   Стоимость всего Единица измерения Давальческие материалы  \n0              NaN               NaN                    NaN  ",
      "text/html": "<div>\n<style scoped>\n    .dataframe tbody tr th:only-of-type {\n        vertical-align: middle;\n    }\n\n    .dataframe tbody tr th {\n        vertical-align: top;\n    }\n\n    .dataframe thead th {\n        text-align: right;\n    }\n</style>\n<table border=\"1\" class=\"dataframe\">\n  <thead>\n    <tr style=\"text-align: right;\">\n      <th></th>\n      <th>СППэлемент</th>\n      <th>Проект</th>\n      <th>[ GUID локальной сметы]</th>\n      <th>Смета</th>\n      <th>Код</th>\n      <th>Наименование</th>\n      <th>НаименованиеПолное</th>\n      <th>Шифр</th>\n      <th>Пункт</th>\n      <th>Тип работ</th>\n      <th>Стоимость всего</th>\n      <th>Единица измерения</th>\n      <th>Давальческие материалы</th>\n    </tr>\n  </thead>\n  <tbody>\n    <tr>\n      <th>0</th>\n      <td>M-20-1A0-09-10-000032</td>\n      <td>Реконструкция магистральных т/сетей</td>\n      <td>2cad624d-c19c-11ed-a2ca-005056936a79</td>\n      <td>Локальный сметный расчет №01-01-01 от 01.09.20...</td>\n      <td>00-00000011</td>\n      <td>Валка кустарников - 8 шт.</td>\n      <td>Валка кустарников - 8 шт.</td>\n      <td>NaN</td>\n      <td>NaN</td>\n      <td>NaN</td>\n      <td>NaN</td>\n      <td>NaN</td>\n      <td>NaN</td>\n    </tr>\n  </tbody>\n</table>\n</div>"
     },
     "execution_count": 2,
     "metadata": {},
     "output_type": "execute_result"
    }
   ],
   "source": [
    "df1 = pd.read_excel(\"new_data/Сметы Берзарина.xls\")\n",
    "df1.head(1)"
   ],
   "metadata": {
    "collapsed": false
   }
  },
  {
   "cell_type": "code",
   "execution_count": 3,
   "outputs": [],
   "source": [
    "df1.rename(\n",
    "    columns={\"Проект\": \"wbs1\", \"Смета\": \"wbs2\", \"Шифр\": \"wbs3_id\", \"Наименование\": \"name\"},\n",
    "    inplace=True\n",
    ")\n",
    "df1 = df1[[\"wbs1\", \"wbs2\", \"wbs3_id\", \"name\"]]"
   ],
   "metadata": {
    "collapsed": false
   }
  },
  {
   "cell_type": "code",
   "execution_count": 4,
   "outputs": [
    {
     "data": {
      "text/plain": "wbs1         1\nwbs2        17\nwbs3_id    408\nname       759\ndtype: int64"
     },
     "execution_count": 4,
     "metadata": {},
     "output_type": "execute_result"
    }
   ],
   "source": [
    "df1.nunique()"
   ],
   "metadata": {
    "collapsed": false
   }
  },
  {
   "cell_type": "code",
   "execution_count": 5,
   "outputs": [
    {
     "data": {
      "text/plain": "(1440, 4)"
     },
     "execution_count": 5,
     "metadata": {},
     "output_type": "execute_result"
    }
   ],
   "source": [
    "df1.shape"
   ],
   "metadata": {
    "collapsed": false
   }
  },
  {
   "cell_type": "code",
   "execution_count": 6,
   "outputs": [
    {
     "data": {
      "text/plain": "(720, 4)"
     },
     "execution_count": 6,
     "metadata": {},
     "output_type": "execute_result"
    }
   ],
   "source": [
    "df1.dropna(subset=[\"wbs3_id\"], inplace=True)\n",
    "df1.drop_duplicates(inplace=True)\n",
    "df1.shape"
   ],
   "metadata": {
    "collapsed": false
   }
  },
  {
   "cell_type": "code",
   "execution_count": 7,
   "outputs": [
    {
     "data": {
      "text/plain": "wbs1         1\nwbs2        17\nwbs3_id    408\nname       645\ndtype: int64"
     },
     "execution_count": 7,
     "metadata": {},
     "output_type": "execute_result"
    }
   ],
   "source": [
    "df1.nunique()"
   ],
   "metadata": {
    "collapsed": false
   }
  },
  {
   "cell_type": "code",
   "execution_count": 8,
   "outputs": [
    {
     "data": {
      "text/plain": "'C:\\\\Users\\\\naumo\\\\PycharmProjects\\\\graph_roder'"
     },
     "execution_count": 8,
     "metadata": {},
     "output_type": "execute_result"
    }
   ],
   "source": [
    "os.getcwd()"
   ],
   "metadata": {
    "collapsed": false
   }
  },
  {
   "cell_type": "code",
   "execution_count": null,
   "outputs": [],
   "source": [
    "from"
   ],
   "metadata": {
    "collapsed": false
   }
  },
  {
   "cell_type": "code",
   "execution_count": 15,
   "outputs": [],
   "source": [
    "# Q_NODES_OBTAIN = '''\n",
    "# MATCH (n)\n",
    "# WHERE n.type = 'start'\n",
    "# RETURN n.name AS name, n.DIN AS din, n.type AS type\n",
    "# '''\n",
    "# Q_RELS_OBTAIN = '''\n",
    "# MATCH (n)-[r:FOLLOWS]->(m)\n",
    "# RETURN n.DIN AS n_din, n.type AS n_type,\n",
    "# m.DIN AS m_din, m.type AS m_type,\n",
    "# properties(r).weight AS weight\n",
    "# '''\n",
    "HIST_URI = \"neo4j+s://99c1a702.databases.neo4j.io:7687\"\n",
    "F_URI = \"neo4j://127.0.0.1:7688\"\n",
    "USER = \"neo4j\"\n",
    "PSWD = \"231099\"\n",
    "hist_driver = GraphDatabase.driver(HIST_URI, auth=(USER, PSWD))\n",
    "with hist_driver.session() as session:\n",
    "    nodes = pd.DataFrame(session.run(Q_NODES_OBTAIN).data())\n",
    "    rels = pd.DataFrame(session.run(Q_RELS_OBTAIN).data())\n",
    "hist_driver.close()"
   ],
   "metadata": {
    "collapsed": false
   }
  },
  {
   "cell_type": "code",
   "execution_count": 16,
   "outputs": [
    {
     "data": {
      "text/plain": "(180, 3)"
     },
     "execution_count": 16,
     "metadata": {},
     "output_type": "execute_result"
    }
   ],
   "source": [
    "nodes.to_csv(os.path.join(os.getcwd(), \"nodes.csv\"), index=False)\n",
    "nodes.shape"
   ],
   "metadata": {
    "collapsed": false
   }
  },
  {
   "cell_type": "code",
   "execution_count": 17,
   "outputs": [
    {
     "data": {
      "text/plain": "(252, 5)"
     },
     "execution_count": 17,
     "metadata": {},
     "output_type": "execute_result"
    }
   ],
   "source": [
    "rels.to_csv(os.path.join(os.getcwd(), \"rels.csv\"), index=False)\n",
    "rels.shape"
   ],
   "metadata": {
    "collapsed": false
   }
  },
  {
   "cell_type": "code",
   "execution_count": null,
   "outputs": [],
   "source": [],
   "metadata": {
    "collapsed": false
   }
  }
 ],
 "metadata": {
  "kernelspec": {
   "display_name": "Python 3 (ipykernel)",
   "language": "python",
   "name": "python3"
  },
  "language_info": {
   "codemirror_mode": {
    "name": "ipython",
    "version": 3
   },
   "file_extension": ".py",
   "mimetype": "text/x-python",
   "name": "python",
   "nbconvert_exporter": "python",
   "pygments_lexer": "ipython3",
   "version": "3.10.4"
  }
 },
 "nbformat": 4,
 "nbformat_minor": 1
}
